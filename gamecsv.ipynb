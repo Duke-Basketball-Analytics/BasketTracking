{
 "cells": [
  {
   "cell_type": "markdown",
   "metadata": {},
   "source": [
    "## Duke vs. Richmond"
   ]
  },
  {
   "cell_type": "code",
   "execution_count": 1,
   "metadata": {},
   "outputs": [],
   "source": [
    "import pandas as pd\n",
    "import numpy as np\n",
    "\n",
    "data = pd.read_csv('/diskB/basketball/240322Duke_Richmond(NCAA)/240322Duke_Richmond.csv')"
   ]
  },
  {
   "cell_type": "markdown",
   "metadata": {},
   "source": [
    "## Understanding Column Titles\n",
    "\n",
    "Start time = time play began in game (seconds) <br>\n",
    "Duration = length of play (seconds) <br>\n",
    "Original Instance = label which indicates which .mov it corresponds to (i.e. OFFENSE: 14) <br>\n",
    "BALL SCREEN = indicates where ball screen occured / what happened for the ball handler <br>\n",
    "BALL SCREEN DEFENSE = ?? guessing it indicates what occurred after the screen by the screening player <br>\n",
    "BH = ball handler; indicated by player's number <br>\n",
    "CREATOR = ?? initials of a player listed <br>\n",
    "DESCRIPTION 1 = first move to occur (most often occurs after ball screen) <br>\n",
    "DESCRIPTION 2 = type of shot taken <br>\n",
    "GRADE = 1-5 number assigned by Coach Kim <br>\n",
    "HANDOFF = <br>\n",
    "MATCH UP = player on opposing team assigned to defend shooter (?) <br>\n",
    "OFF BALL SCREEN = <br>\n",
    "OFF BALL SCREEN DEFENSE = <br>\n",
    "PLAYER = shot taker / subject of the play <br>\n",
    "READ = type of shot / play that occured <br>\n",
    "RESULT = made or missed basket, turnover, etc. <br>\n",
    "SC = <br>\n",
    "ST SI DEFENSE = strong side ?? <br>\n",
    "ST-SIDE D 3 AWAY = strong side ?? <br>\n",
    "ST-SIDE D PAIR SIDE = strong side ?? <br>\n",
    "TYPE OF PLAY = seems like play calls known by the coaching staff <br>\n",
    "WK SI DEFENSE = <br>\n",
    "WK-SIDE D 2 AWAY = <br>\n",
    "WK-SIDE D 3 AWAY = <br>"
   ]
  },
  {
   "cell_type": "markdown",
   "metadata": {},
   "source": [
    "## Finding Turnovers"
   ]
  },
  {
   "cell_type": "code",
   "execution_count": 2,
   "metadata": {},
   "outputs": [
    {
     "name": "stdout",
     "output_type": "stream",
     "text": [
      "PLAYER\n",
      "#21 C.EMSBO         2\n",
      "#22 T.MAIR          2\n",
      "#24 R.RICHARDSON    2\n",
      "#3 A.JACKSON        3\n",
      "#4 J.DONOVAN        2\n",
      "dtype: int64\n"
     ]
    }
   ],
   "source": [
    "# creates a dataframe with all instances of turnovers \n",
    "turnover_rows = data[data['RESULT'] == 'TURNOVER']\n",
    "\n",
    "# breaks down based on which players committed turnovers and counts the instances\n",
    "player_TO = turnover_rows.groupby(\"PLAYER\").size()\n",
    "print(player_TO)\n"
   ]
  },
  {
   "cell_type": "code",
   "execution_count": null,
   "metadata": {},
   "outputs": [],
   "source": []
  }
 ],
 "metadata": {
  "kernelspec": {
   "display_name": ".venv",
   "language": "python",
   "name": "python3"
  },
  "language_info": {
   "codemirror_mode": {
    "name": "ipython",
    "version": 3
   },
   "file_extension": ".py",
   "mimetype": "text/x-python",
   "name": "python",
   "nbconvert_exporter": "python",
   "pygments_lexer": "ipython3",
   "version": "3.1.undefined"
  }
 },
 "nbformat": 4,
 "nbformat_minor": 2
}
