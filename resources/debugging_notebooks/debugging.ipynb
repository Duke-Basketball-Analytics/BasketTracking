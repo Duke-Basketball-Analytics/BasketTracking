{
 "cells": [
  {
   "cell_type": "code",
   "execution_count": 1,
   "metadata": {},
   "outputs": [],
   "source": [
    "import numpy as np\n",
    "import cv2"
   ]
  },
  {
   "cell_type": "markdown",
   "metadata": {},
   "source": [
    "Debugging code for line 95 in `get_players_pos` function of `player_detection` script."
   ]
  },
  {
   "cell_type": "code",
   "execution_count": 2,
   "metadata": {},
   "outputs": [],
   "source": [
    "predicted_masks = np.load('../debugging_arrays/detectron_predicted_masks.npy')\n",
    "indices = np.load(\"../debugging_arrays/detectron_indices.npy\")\n",
    "kernel = np.load(\"../debugging_arrays/get_players_pos_kernel.npy\")\n",
    "ppl = []"
   ]
  },
  {
   "cell_type": "code",
   "execution_count": 3,
   "metadata": {},
   "outputs": [],
   "source": [
    "for i, entry in enumerate(indices):  # picking only class 0 (people)\n",
    "    if entry == 0:\n",
    "        ppl.append(\n",
    "            np.array(cv2.erode(np.array(predicted_masks[i], dtype=np.uint8), kernel, iterations=4), dtype=bool))"
   ]
  },
  {
   "cell_type": "code",
   "execution_count": 9,
   "metadata": {},
   "outputs": [],
   "source": [
    "mylist = [np.array(np.where(p == True)).T for p in ppl]"
   ]
  },
  {
   "cell_type": "code",
   "execution_count": 21,
   "metadata": {},
   "outputs": [
    {
     "data": {
      "text/plain": [
       "array([[ 144, 1208],\n",
       "       [ 144, 1209],\n",
       "       [ 144, 1210],\n",
       "       [ 144, 1211],\n",
       "       [ 144, 1212]])"
      ]
     },
     "execution_count": 21,
     "metadata": {},
     "output_type": "execute_result"
    }
   ],
   "source": [
    "# Exact pixel locations for the mask of each person\n",
    "mylist[0][:5]"
   ]
  },
  {
   "cell_type": "code",
   "execution_count": 20,
   "metadata": {},
   "outputs": [
    {
     "name": "stdout",
     "output_type": "stream",
     "text": [
      "(5111, 2)\n",
      "(1856, 2)\n",
      "(3561, 2)\n",
      "(508, 2)\n",
      "(2438, 2)\n",
      "(2347, 2)\n",
      "(901, 2)\n",
      "(1940, 2)\n",
      "(445, 2)\n",
      "(4360, 2)\n"
     ]
    }
   ],
   "source": [
    "# The mask for each person is different so we can't create an array out of it\n",
    "for x in mylist:\n",
    "    print(x.shape)"
   ]
  },
  {
   "cell_type": "code",
   "execution_count": null,
   "metadata": {},
   "outputs": [],
   "source": [
    "# indexes_ppl = np.array(\n",
    "#     [np.array(np.where(p == True)).T for p in ppl])"
   ]
  },
  {
   "cell_type": "code",
   "execution_count": 23,
   "metadata": {},
   "outputs": [],
   "source": [
    "PAD = 15\n",
    "for keypoint, p in zip(mylist, ppl):\n",
    "\n",
    "    top = min(keypoint[:, 0])\n",
    "    bottom = max(keypoint[:, 0])\n",
    "    left = min(keypoint[:, 1])\n",
    "    right = max(keypoint[:, 1])\n",
    "    bbox_person = (top - PAD, left - PAD, bottom + PAD, right + PAD)\n",
    "    tmp_tensor = p.reshape((p.shape[0], p.shape[1], 1))\n",
    "    break"
   ]
  },
  {
   "cell_type": "code",
   "execution_count": 31,
   "metadata": {},
   "outputs": [
    {
     "name": "stdout",
     "output_type": "stream",
     "text": [
      "144 319 1181 1247\n",
      "(129, 1166, 334, 1262)\n",
      "(400, 1280, 1)\n",
      "(400, 1280)\n"
     ]
    }
   ],
   "source": [
    "print(top, bottom, left, right)\n",
    "print(bbox_person)\n",
    "print(tmp_tensor.shape)\n",
    "print(ppl[0].shape)"
   ]
  },
  {
   "cell_type": "code",
   "execution_count": null,
   "metadata": {},
   "outputs": [],
   "source": [
    "crop_img = np.where(tmp_tensor, frame, 0)\n",
    "crop_img = crop_img[top:(bottom - int(0.3 * (bottom - top))), left:right]"
   ]
  }
 ],
 "metadata": {
  "kernelspec": {
   "display_name": "baskettracker",
   "language": "python",
   "name": "python3"
  },
  "language_info": {
   "codemirror_mode": {
    "name": "ipython",
    "version": 3
   },
   "file_extension": ".py",
   "mimetype": "text/x-python",
   "name": "python",
   "nbconvert_exporter": "python",
   "pygments_lexer": "ipython3",
   "version": "3.8.19"
  }
 },
 "nbformat": 4,
 "nbformat_minor": 2
}
